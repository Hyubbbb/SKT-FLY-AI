{
 "cells": [
  {
   "cell_type": "markdown",
   "metadata": {},
   "source": [
    "### 원 생성"
   ]
  },
  {
   "cell_type": "code",
   "execution_count": 4,
   "metadata": {},
   "outputs": [
    {
     "data": {
      "text/plain": [
       "True"
      ]
     },
     "execution_count": 4,
     "metadata": {},
     "output_type": "execute_result"
    }
   ],
   "source": [
    "import cv2\n",
    "import numpy as np\n",
    "import random\n",
    "\n",
    "# Create a blank image\n",
    "image = np.zeros((480, 640, 3), dtype=np.uint8)\n",
    "\n",
    "# Function to check if circles overlap\n",
    "def is_overlapping(x, y, radius, circles):\n",
    "    for circle in circles:\n",
    "        dist = np.sqrt((x - circle[0])**2 + (y - circle[1])**2)\n",
    "        if dist < radius + circle[2]:\n",
    "            return True\n",
    "    return False\n",
    "\n",
    "# List to store circle parameters\n",
    "circles = []\n",
    "\n",
    "# Colors\n",
    "colors = [(0, 0, 255), (255, 0, 0), (0, 255, 0)]  # Red, Blue, Green\n",
    "\n",
    "# Generate random circles\n",
    "while len(circles) < 5:\n",
    "    radius = random.randint(20, 50)\n",
    "    x = random.randint(radius, 640 - radius)\n",
    "    y = random.randint(radius, 480 - radius)\n",
    "    color = random.choice(colors)\n",
    "    \n",
    "    if not is_overlapping(x, y, radius, circles):\n",
    "        circles.append((x, y, radius, color))\n",
    "        cv2.circle(image, (x, y), radius, color, -1)\n",
    "\n",
    "# Save the image to a file\n",
    "cv2.imwrite('/Users/kimhyub/Downloads/hyub/ㄱSKT/SKT-FLY-AI/4_CV/chap04/output_images/fighting.jpg', image)\n",
    "\n",
    "# # Display the image\n",
    "# cv2.imshow('Image with Circles', image)\n",
    "# cv2.waitKey(0)\n",
    "# cv2.destroyAllWindows()"
   ]
  },
  {
   "cell_type": "markdown",
   "metadata": {},
   "source": [
    "## 원 찾기"
   ]
  },
  {
   "cell_type": "code",
   "execution_count": null,
   "metadata": {},
   "outputs": [],
   "source": [
    "import cv2"
   ]
  },
  {
   "cell_type": "code",
   "execution_count": 5,
   "metadata": {},
   "outputs": [
    {
     "ename": "",
     "evalue": "",
     "output_type": "error",
     "traceback": [
      "\u001b[1;31m현재 셀 또는 이전 셀에서 코드를 실행하는 동안 Kernel이 충돌했습니다. \n",
      "\u001b[1;31m셀의 코드를 검토하여 가능한 오류 원인을 식별하세요. \n",
      "\u001b[1;31m자세한 내용을 보려면 <a href='https://aka.ms/vscodeJupyterKernelCrash'>여기</a>를 클릭하세요. \n",
      "\u001b[1;31m자세한 내용은 Jupyter <a href='command:jupyter.viewOutput'>로그</a>를 참조하세요."
     ]
    }
   ],
   "source": [
    "# 객체 탐지 및 색상 인식 함수\n",
    "def detect_and_label_circles(image):\n",
    "    # Convert to grayscale and apply GaussianBlur\n",
    "    gray = cv2.cvtColor(image, cv2.COLOR_BGR2GRAY)\n",
    "    blurred = cv2.GaussianBlur(gray, (9, 9), 2)\n",
    "    # Detect circles using HoughCircles\n",
    "    circles = cv2.HoughCircles(blurred, cv2.HOUGH_GRADIENT, dp=1.2, minDist=50, param1=50, param2=30, minRadius=20, maxRadius=60)\n",
    "    if circles is not None:\n",
    "        circles = np.round(circles[0, :]).astype(\"int\")\n",
    "        for (x, y, r) in circles:\n",
    "            # Draw the circle and a rectangle around it\n",
    "            cv2.circle(image, (x, y), r, (255, 255, 255), 2)\n",
    "            cv2.rectangle(image, (x - r, y - r), (x + r, y + r), (255, 255, 255), 2)\n",
    "            # Determine the color of the circle\n",
    "            b, g, r_val = image[y, x]\n",
    "            color = \"Unknown\"\n",
    "            if r_val > g and r_val > b:\n",
    "                color = \"Red\"\n",
    "            elif g > r_val and g > b:\n",
    "                color = \"Green\"\n",
    "            elif b > r_val and b > g:\n",
    "                color = \"Blue\"\n",
    "            # Put the color label near the circle\n",
    "            cv2.putText(image, color, (x - r, y - r - 10), cv2.FONT_HERSHEY_SIMPLEX, 0.6, (255, 255, 255), 2)\n",
    "    return image\n",
    "# Read the input image\n",
    "image = cv2.imread(\"/Users/kimhyub/Downloads/hyub/ㄱSKT/SKT-FLY-AI/4_CV/chap04/output_images/fighting.jpg\")\n",
    "if image is None:\n",
    "    raise Exception(\"Error: Unable to read the image file.\")\n",
    "# Detect and label circles\n",
    "labeled_image = detect_and_label_circles(image)\n",
    "# Display the result\n",
    "cv2.imshow(\"Detected Circles and Colors\", labeled_image)\n",
    "# cv2.imwrite(\"labeled_fighting.jpg\", labeled_image)  # 저장된 결과 이미지\n",
    "cv2.waitKey(0)\n",
    "cv2.destroyAllWindows()"
   ]
  },
  {
   "cell_type": "code",
   "execution_count": null,
   "metadata": {},
   "outputs": [],
   "source": []
  }
 ],
 "metadata": {
  "kernelspec": {
   "display_name": "base",
   "language": "python",
   "name": "python3"
  },
  "language_info": {
   "codemirror_mode": {
    "name": "ipython",
    "version": 3
   },
   "file_extension": ".py",
   "mimetype": "text/x-python",
   "name": "python",
   "nbconvert_exporter": "python",
   "pygments_lexer": "ipython3",
   "version": "3.12.7"
  }
 },
 "nbformat": 4,
 "nbformat_minor": 2
}
